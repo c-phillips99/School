{
 "cells": [
  {
   "cell_type": "markdown",
   "metadata": {},
   "source": [
    "# Imports and Data"
   ]
  },
  {
   "cell_type": "code",
   "execution_count": 36,
   "metadata": {},
   "outputs": [
    {
     "name": "stdout",
     "output_type": "stream",
     "text": [
      "[[0.11 0.12]\n",
      " [0.12 0.11]\n",
      " [0.13 0.11]\n",
      " [0.1  1.1 ]\n",
      " [0.12 1.21]\n",
      " [0.2  1.2 ]\n",
      " [1.1  0.1 ]\n",
      " [1.2  0.2 ]\n",
      " [1.15 0.21]\n",
      " [1.1  1.2 ]\n",
      " [1.2  1.15]\n",
      " [1.23 1.18]]\n"
     ]
    }
   ],
   "source": [
    "from scipy.stats import norm\n",
    "import numpy as np\n",
    "from numpy import mean\n",
    "from numpy import std\n",
    "from sklearn.datasets import make_blobs\n",
    "\n",
    "or_x = [[0.11, 0.12], [0.12, 0.11],[0.13,0.11], [0.1, 1.1],[0.12,1.21],[0.2,1.2],[1.1, 0.1], [1.2,0.2],[1.15,0.21], [1.1, 1.2],[1.2,1.15],[1.23,1.18]]\n",
    "or_y = [0, 0, 0, 1, 1, 1, 1, 1, 1, 1,1,1]\n",
    "xor_x = [[0.11, 0.12], [0.12, 0.11],[0.13,0.11], [0.1, 1.1],[0.12,1.21],[0.2,1.2],[1.1, 0.1], [1.2,0.2],[1.15,0.21], [1.1, 1.2],[1.2,1.15],[1.23,1.18]]\n",
    "xor_y = [0, 0, 0, 1, 1, 1, 1, 1, 1, 0,0,0]\n",
    "or_x = np.asarray(or_x)\n",
    "or_y = np.asarray(or_y)\n",
    "xor_x = np.asarray(xor_x)\n",
    "xor_y = np.asarray(xor_y)\n",
    "print (or_x)"
   ]
  },
  {
   "cell_type": "code",
   "execution_count": 40,
   "metadata": {},
   "outputs": [],
   "source": [
    "def fit_distribution(data):\n",
    "    # Estimate parameters\n",
    "    mu = mean(data)\n",
    "    sigma = std(data)\n",
    "    print(mu, sigma)\n",
    "    # fit distribution\n",
    "    dist = norm(mu, sigma)\n",
    "    return dist\n",
    "\n",
    "def probability(X, prior, dist1, dist2):\n",
    "    return prior * dist1.pdf(X[0]) * dist2.pdf(X[1])"
   ]
  },
  {
   "cell_type": "code",
   "execution_count": 37,
   "metadata": {},
   "outputs": [
    {
     "name": "stdout",
     "output_type": "stream",
     "text": [
      "(3, 2) (9, 2)\n",
      "(6, 2) (6, 2)\n"
     ]
    }
   ],
   "source": [
    "# Sort data into classes\n",
    "or_xy0 = or_x[or_y == 0]\n",
    "or_xy1 = or_x[or_y == 1]\n",
    "xor_xy0 = or_x[xor_y == 0]\n",
    "xor_xy1 = or_x[xor_y == 1]\n",
    "print(or_xy0.shape, or_xy1.shape)\n",
    "print(xor_xy0.shape, xor_xy1.shape)"
   ]
  },
  {
   "cell_type": "code",
   "execution_count": 38,
   "metadata": {},
   "outputs": [
    {
     "name": "stdout",
     "output_type": "stream",
     "text": [
      "0.25 0.75\n",
      "0.5 0.5\n"
     ]
    }
   ],
   "source": [
    "# Calculate priors\n",
    "or_priory0 = len(or_xy0) / len(or_x)\n",
    "or_priory1 = len(or_xy1) / len(or_x)\n",
    "print(or_priory0, or_priory1)\n",
    "xor_priory0 = len(xor_xy0) / len(xor_x)\n",
    "xor_priory1 = len(xor_xy1) / len(xor_x)\n",
    "print(xor_priory0, xor_priory1)"
   ]
  },
  {
   "cell_type": "code",
   "execution_count": 41,
   "metadata": {},
   "outputs": [
    {
     "name": "stdout",
     "output_type": "stream",
     "text": [
      "0.12 0.008164965809277263\n",
      "0.11333333333333333 0.004714045207910314\n",
      "0.8222222222222223 0.48480873153527204\n",
      "0.8388888888888889 0.4748671029162777\n",
      "0.6483333333333333 0.5298243943882622\n",
      "0.645 0.5318756120247163\n",
      "0.6449999999999999 0.5067461560452794\n",
      "0.67 0.5024606120549816\n"
     ]
    }
   ],
   "source": [
    "# Create PDFs for y==0\n",
    "or_distx1y0 = fit_distribution(or_xy0[:, 0])\n",
    "or_distx2y0 = fit_distribution(or_xy0[:, 1])\n",
    "# Create PDFs for y==1\n",
    "or_distx1y1 = fit_distribution(or_xy1[:, 0])\n",
    "or_distx2y1 = fit_distribution(or_xy1[:, 1])\n",
    "\n",
    "# Create PDFs for y==0\n",
    "xor_distx1y0 = fit_distribution(xor_xy0[:, 0])\n",
    "xor_distx2y0 = fit_distribution(xor_xy0[:, 1])\n",
    "# Create PDFs for y==1\n",
    "xor_distx1y1 = fit_distribution(xor_xy1[:, 0])\n",
    "xor_distx2y1 = fit_distribution(xor_xy1[:, 1])"
   ]
  },
  {
   "cell_type": "code",
   "execution_count": 42,
   "metadata": {},
   "outputs": [
    {
     "name": "stdout",
     "output_type": "stream",
     "text": [
      "OR data\n",
      "P(y=0 | [0.11 0.12]) = 17963.737\n",
      "P(y=1 | [0.11 0.12]) = 5.603\n",
      "\n",
      "XOR data\n",
      "P(y=0 | [0.11 0.12]) = 10.354\n",
      "P(y=1 | [0.11 0.12]) = 9.833\n"
     ]
    }
   ],
   "source": [
    "# Classify one example\n",
    "or_xsample, or_ysample = or_x[0], or_y[0]\n",
    "xor_xsample, xor_ysample = xor_x[0], xor_y[0]\n",
    "\n",
    "or_py0 = probability(or_xsample, or_priory0, or_distx1y0, or_distx2y0)\n",
    "or_py1 = probability(or_xsample, or_priory1, or_distx1y1, or_distx2y1)\n",
    "xor_py0 = probability(xor_xsample, xor_priory0, xor_distx1y0, xor_distx2y0)\n",
    "xor_py1 = probability(xor_xsample, xor_priory1, xor_distx1y1, xor_distx2y1)\n",
    "print(\"OR data\")\n",
    "print('P(y=0 | %s) = %.3f' % (or_xsample, or_py0*100))\n",
    "print('P(y=1 | %s) = %.3f' % (or_xsample, or_py1*100))\n",
    "\n",
    "print(\"\\nXOR data\")\n",
    "print('P(y=0 | %s) = %.3f' % (xor_xsample, xor_py0*100))\n",
    "print('P(y=1 | %s) = %.3f' % (xor_xsample, xor_py1*100))"
   ]
  }
 ],
 "metadata": {
  "kernelspec": {
   "display_name": "Python 3",
   "language": "python",
   "name": "python3"
  },
  "language_info": {
   "codemirror_mode": {
    "name": "ipython",
    "version": 3
   },
   "file_extension": ".py",
   "mimetype": "text/x-python",
   "name": "python",
   "nbconvert_exporter": "python",
   "pygments_lexer": "ipython3",
   "version": "3.6.8"
  }
 },
 "nbformat": 4,
 "nbformat_minor": 4
}
